{
  "cells": [
    {
      "cell_type": "markdown",
      "id": "53cf7449",
      "metadata": {},
      "source": [
        "# Data Challenge \u2013 An\u00e1lisis y Comparaci\u00f3n de Soluciones\n",
        "\n",
        "**Autor:** Fernando  \n",
        "**Fecha:** 2025-06-09  \n",
        "\n",
        "Este notebook realiza el an\u00e1lisis y la comparaci\u00f3n entre m\u00e9todos optimizados por velocidad (`time`) y por eficiencia en memoria (`memory`) en el an\u00e1lisis del dataset de tweets sobre protestas."
      ]
    },
    {
      "cell_type": "markdown",
      "id": "8719e139",
      "metadata": {},
      "source": [
        "## \ud83d\udee0\ufe0f Configuraci\u00f3n previa del entorno de trabajo\n",
        "\n",
        "Antes de ejecutar este notebook, se ha configurado lo siguiente en Google Cloud Platform (GCP):\n",
        "\n",
        "- **Proyecto GCP creado**\n",
        "- **Bucket para datos:**\n",
        "  - Nombre: `latam-data-challenge-data`\n",
        "  - Archivo cargado: `farmers-protest-tweets-2021-2-4.json`\n",
        "  - Ruta completa: \n",
        "    ```\n",
        "    gs://latam-data-challenge-data/farmers-protest-tweets-2021-2-4.json\n",
        "    ```\n",
        "\n",
        "- **Bucket para Terraform state:**\n",
        "gs://latam-data-challenge-terraform-state\n",
        "\n",
        "- **Dataset BigQuery**:\n",
        "- Nombre: `challenge_data`\n",
        "\n",
        "- **Service Account**:\n",
        "- Nombre: `sa-deployment`\n",
        "- Permisos asignados para CI/CD y ejecuci\u00f3n\n",
        "\n",
        "- **Backend de Terraform**:\n",
        "- Funcional y configurado con bloqueo del state.\n"
      ]
    },
    {
      "cell_type": "code",
      "execution_count": null,
      "id": "787711cd",
      "metadata": {},
      "outputs": [],
      "source": [
        "pip install pandas memory_profiler google-cloud-storage"
      ]
    },
    {
      "cell_type": "markdown",
      "id": "55d2b757",
      "metadata": {},
      "source": [
        "## \ud83d\udd0d Exploraci\u00f3n Inicial\n",
        "\n",
        "Antes de resolver las preguntas principales, realizamos una exploraci\u00f3n breve de los datos utilizando los siguientes scripts de la carpeta `exploration`:\n",
        "\n",
        "- `explore_tweets_q1.py`: revisa fechas y usuarios activos (log: `tweet_explore_q1.log`)\n",
        "- `explore_tweets_q2.py`: analiza contenido y emojis (log: `tweet_explore_q2.log`)\n",
        "- `explore_tweets_q3.py`: identifica usuarios mencionados (log: `tweet_explore_q3.log`)\n",
        "\n",
        "Cada script genera un archivo de log independiente con los hallazgos del an\u00e1lisis.\n"
      ]
    },
    {
      "cell_type": "code",
      "execution_count": null,
      "id": "807bca35",
      "metadata": {},
      "outputs": [],
      "source": [
        "import subprocess\n",
        "\n",
        "scripts = [\n",
        "    \"../exploration/explore_tweets_q1.py\",\n",
        "    \"../exploration/explore_tweets_q2.py\",\n",
        "    \"../exploration/explore_tweets_q3.py\",\n",
        "]\n",
        "\n",
        "for script in scripts:\n",
        "    result = subprocess.run([\"python\", script], capture_output=True, text=True)\n",
        "    if result.returncode == 0:\n",
        "        print(f\"\u2705 Ejecuci\u00f3n exitosa del script: {script}\")\n",
        "    else:\n",
        "        print(f\"\u274c Error ejecutando el script: {script}\")\n",
        "        print(result.stderr)\n",
        "\n",
        "print(\"\\nRevisa los logs generados para m\u00e1s detalles:\")\n",
        "print(\"- tweet_explore_q1.log\")\n",
        "print(\"- tweet_explore_q2.log\")\n",
        "print(\"- tweet_explore_q3.log\")"
      ]
    },
    {
      "cell_type": "markdown",
      "id": "a4c0416d",
      "metadata": {},
      "source": [
        "## \u2699\ufe0f Configuraci\u00f3n Inicial\n",
        "\n",
        "En esta secci\u00f3n configuramos el entorno de ejecuci\u00f3n del notebook, importamos las librer\u00edas necesarias y definimos rutas importantes para acceder a nuestros datos y scripts espec\u00edficos del an\u00e1lisis.\n"
      ]
    },
    {
      "cell_type": "code",
      "execution_count": null,
      "id": "17d2d91a",
      "metadata": {},
      "outputs": [],
      "source": [
        "import sys\n",
        "\n",
        "sys.path.append(\"../src\")\n",
        "\n",
        "from memory_profiler import memory_usage\n",
        "from time import time\n",
        "\n",
        "from utils import get_local_file_path\n",
        "from q1_time import q1_time\n",
        "from q1_memory import q1_memory\n",
        "from q2_time import q2_time\n",
        "from q2_memory import q2_memory\n",
        "from q3_time import q3_time\n",
        "from q3_memory import q3_memory\n",
        "\n",
        "file_path = \"gs://latam-data-challenge-data/farmers-protest-tweets-2021-2-4.json\"\n",
        "local_file = get_local_file_path(file_path)"
      ]
    },
    {
      "cell_type": "markdown",
      "id": "15e015d8",
      "metadata": {},
      "source": [
        "## \ud83d\udcc5 Pregunta 1 \u2013 Top 10 fechas con m\u00e1s tweets y usuarios activos\n",
        "\n",
        "Comparamos dos m\u00e9todos para resolver esta pregunta:\n",
        "\n",
        "- **M\u00e9todo optimizado en tiempo (`time`):** utiliza `pandas` para an\u00e1lisis r\u00e1pidos en memoria.\n",
        "- **M\u00e9todo optimizado en memoria (`memory`):** procesa el archivo l\u00ednea por l\u00ednea para minimizar el uso de RAM.\n"
      ]
    },
    {
      "cell_type": "code",
      "execution_count": null,
      "id": "13b50220",
      "metadata": {},
      "outputs": [],
      "source": [
        "start_time = time()\n",
        "\n",
        "# Ejecuta una sola vez, midiendo memoria y obteniendo el resultado\n",
        "mem_usage_time_q1, resultado_q1_time = memory_usage(\n",
        "    (q1_time, (local_file,)), retval=True\n",
        ")\n",
        "\n",
        "print(f\"\u23f1\ufe0f Tiempo m\u00e9todo 'time': {time() - start_time:.2f} segundos\")\n",
        "print(f\"\ud83d\udcbe Memoria m\u00e1xima m\u00e9todo 'time': {max(mem_usage_time_q1):.2f} MiB\")\n",
        "print(\"\ud83d\udcc5 Resultados m\u00e9todo 'time':\", resultado_q1_time)"
      ]
    },
    {
      "cell_type": "code",
      "execution_count": null,
      "id": "ee3d4fd6",
      "metadata": {},
      "outputs": [],
      "source": [
        "start_time = time()\n",
        "\n",
        "mem_usage_q1, resultado_q1_memory = memory_usage(\n",
        "    (q1_memory, (local_file,)), retval=True\n",
        ")\n",
        "\n",
        "print(f\"\u23f1\ufe0f Tiempo m\u00e9todo 'memory': {time() - start_time:.2f} segundos\")\n",
        "print(f\"\ud83d\udcbe Memoria m\u00e1xima m\u00e9todo 'memory': {max(mem_usage_q1):.2f} MiB\")\n",
        "print(\"\ud83d\udcc5 Resultados m\u00e9todo 'memory':\", resultado_q1_memory)"
      ]
    },
    {
      "cell_type": "markdown",
      "id": "d8dda14a",
      "metadata": {},
      "source": [
        "### \ud83d\ude0a Pregunta 2 \u2013 Emojis m\u00e1s usados\n",
        "\n",
        "Evaluamos nuevamente ambos m\u00e9todos.\n"
      ]
    },
    {
      "cell_type": "code",
      "execution_count": null,
      "id": "b33c2e03",
      "metadata": {},
      "outputs": [],
      "source": [
        "start_time = time()\n",
        "\n",
        "mem_usage_q2_time, resultado_q2_time = memory_usage(\n",
        "    (q2_time, (local_file,)), retval=True\n",
        ")\n",
        "\n",
        "print(f\"\u23f1\ufe0f Tiempo m\u00e9todo 'time': {time() - start_time:.2f} segundos\")\n",
        "print(f\"\ud83d\udcbe Memoria m\u00e1xima m\u00e9todo 'time': {max(mem_usage_q2_time):.2f} MiB\")\n",
        "print(\"\ud83d\ude0a Resultados m\u00e9todo 'time':\", resultado_q2_time)"
      ]
    },
    {
      "cell_type": "code",
      "execution_count": null,
      "id": "17d2b25a",
      "metadata": {},
      "outputs": [],
      "source": [
        "start_time = time()\n",
        "\n",
        "mem_usage_q2_memory, resultado_q2_memory = memory_usage(\n",
        "    (q2_memory, (local_file,)), retval=True\n",
        ")\n",
        "\n",
        "print(f\"\u23f1\ufe0f Tiempo m\u00e9todo 'memory': {time() - start_time:.2f} segundos\")\n",
        "print(f\"\ud83d\udcbe Memoria m\u00e1xima m\u00e9todo 'memory': {max(mem_usage_q2_memory):.2f} MiB\")\n",
        "print(\"\ud83d\ude0a Resultados m\u00e9todo 'memory':\", resultado_q2_memory)"
      ]
    },
    {
      "cell_type": "markdown",
      "id": "93c23564",
      "metadata": {},
      "source": [
        "### \ud83d\udce2 Pregunta 3 \u2013 Usuarios m\u00e1s mencionados\n",
        "\n",
        "Se comparan tambi\u00e9n ambos m\u00e9todos.\n"
      ]
    },
    {
      "cell_type": "code",
      "execution_count": null,
      "id": "1409df29",
      "metadata": {},
      "outputs": [],
      "source": [
        "start_time = time()\n",
        "\n",
        "mem_usage_q3_time, resultado_q3_time = memory_usage(\n",
        "    (q3_time, (local_file,)), retval=True\n",
        ")\n",
        "\n",
        "print(f\"\u23f1\ufe0f Tiempo m\u00e9todo 'time': {time() - start_time:.2f} segundos\")\n",
        "print(f\"\ud83d\udcbe Memoria m\u00e1xima m\u00e9todo 'time': {max(mem_usage_q3_time):.2f} MiB\")\n",
        "print(\"\ud83d\udce2 Resultados m\u00e9todo 'time':\", resultado_q3_time)"
      ]
    },
    {
      "cell_type": "code",
      "execution_count": null,
      "id": "af465d21",
      "metadata": {},
      "outputs": [],
      "source": [
        "start_time = time()\n",
        "\n",
        "mem_usage_q3_memory, resultado_q3_memory = memory_usage(\n",
        "    (q3_memory, (local_file,)), retval=True\n",
        ")\n",
        "\n",
        "print(f\"\u23f1\ufe0f Tiempo m\u00e9todo 'memory': {time() - start_time:.2f} segundos\")\n",
        "print(f\"\ud83d\udcbe Memoria m\u00e1xima m\u00e9todo 'memory': {max(mem_usage_q3_memory):.2f} MiB\")\n",
        "print(\"\ud83d\udce2 Resultados m\u00e9todo 'memory':\", resultado_q3_memory)"
      ]
    },
    {
      "cell_type": "markdown",
      "id": "6d4b211e",
      "metadata": {},
      "source": [
        "# \ud83d\udcdd Conclusiones Finales\n",
        "\n",
        "**En resumen**, evaluamos dos maneras de analizar un dataset grande: una priorizando velocidad (`time`) y otra priorizando eficiencia en memoria (`memory`). Aqu\u00ed te dejo los puntos claves observados:\n",
        "\n",
        "## \ud83d\udcc5 Pregunta 1 (Fechas con m\u00e1s tweets y usuarios activos)\n",
        "\n",
        "* **Velocidad (`time`)**:\n",
        "\n",
        "  * Tiempo: \\~5 segundos.\n",
        "  * Memoria usada: \\~207 MiB.\n",
        "* **Memoria (`memory`)**:\n",
        "\n",
        "  * Tiempo similar (\\~4.5 segundos).\n",
        "  * Memoria apenas menor (\\~205 MiB).\n",
        "\n",
        "> Aca no hubo grandes diferencias entre ambos m\u00e9todos, lo que indica que para datasets medianos como este, ambas opciones son pr\u00e1cticamente equivalentes.\n",
        "\n",
        "## \ud83d\udcc5 Pregunta 2 (Emojis m\u00e1s usados)\n",
        "\n",
        "* **Velocidad (`time`)**:\n",
        "\n",
        "  * Tiempo: s\u00faper r\u00e1pido (\\~5.65 segundos).\n",
        "  * Memoria usada: \\~211 MiB.\n",
        "* **Memoria (`memory`)**:\n",
        "\n",
        "  * Tiempo muy lento (\\~70 segundos).\n",
        "  * Memoria casi id\u00e9ntica (\\~210 MiB).\n",
        "\n",
        "> \ud83d\udd25 Claramente aqu\u00ed tiene un mejor performance el m\u00e9todo `time`. La opci\u00f3n `memory` fue considerablemente m\u00e1s lenta sin ning\u00fan beneficio adicional.\n",
        "\n",
        "## \ud83d\udcc5 Pregunta 3 (Usuarios m\u00e1s mencionados)\n",
        "\n",
        "* **Velocidad (`time`)**:\n",
        "\n",
        "  * Tiempo: r\u00e1pido (\\~5.49 segundos).\n",
        "  * Memoria usada: \\~210 MiB.\n",
        "* **Memoria (`memory`)**:\n",
        "\n",
        "  * Tiempo muy parecido (\\~4.58 segundos).\n",
        "  * Memoria tambi\u00e9n pr\u00e1cticamente igual (\\~210 MiB).\n",
        "\n",
        "> \ud83d\udc65 Aqu\u00ed de nuevo, las diferencias fueron insignificantes. Usar un m\u00e9todo u otro no cambia demasiado el resultado.\n",
        "\n",
        "## \ud83d\udca1 \u00bfCu\u00e1l recomiendo?\n",
        "\n",
        "En este caso espec\u00edfico, **no se nota una ventaja muy significativa** de usar el m\u00e9todo `memory`. El m\u00e9todo optimizado por `time` es generalmente m\u00e1s sencillo y r\u00e1pido para este dataset particular.\n",
        "\n",
        "## \ud83d\ude80 \u00bfQu\u00e9 podr\u00edamos mejorar m\u00e1s adelante?\n",
        "\n",
        "* Probar con datasets m\u00e1s grandes, donde realmente se vean diferencias claras entre ambos m\u00e9todos.\n",
        "* Optimizar el procesamiento l\u00ednea a l\u00ednea para que no sea tan lento especialmente cuando se buscan emojis.\n"
      ]
    }
  ],
  "metadata": {
    "kernelspec": {
      "display_name": "latam-data-challenge-IDlQNByE-py3.12",
      "language": "python",
      "name": "python3"
    },
    "language_info": {
      "codemirror_mode": {
        "name": "ipython",
        "version": 3
      },
      "file_extension": ".py",
      "mimetype": "text/x-python",
      "name": "python",
      "nbconvert_exporter": "python",
      "pygments_lexer": "ipython3",
      "version": "3.12.7"
    }
  },
  "nbformat": 4,
  "nbformat_minor": 5
}
